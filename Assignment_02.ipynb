{
 "cells": [
  {
   "cell_type": "markdown",
   "id": "06e36a77-467c-4ea4-bc7e-0fb556954bdb",
   "metadata": {},
   "source": [
    "# Strings Assignment"
   ]
  },
  {
   "cell_type": "markdown",
   "id": "2c0712f2-3174-44e2-ad4f-c0351af33d0a",
   "metadata": {},
   "source": [
    "#### 1 .  Write a program that accepts a string from user. Your program should count and display number of vowels in that string. "
   ]
  },
  {
   "cell_type": "code",
   "execution_count": 2,
   "id": "4e83383b-b9eb-4718-9a8d-2edfc4fc2f41",
   "metadata": {},
   "outputs": [
    {
     "name": "stdin",
     "output_type": "stream",
     "text": [
      "Enter a word to count its vowel characters PakIstan\n"
     ]
    },
    {
     "name": "stdout",
     "output_type": "stream",
     "text": [
      "3\n"
     ]
    }
   ],
   "source": [
    "vowels_checker = input(\"Enter a word to count its vowel characters\").lower()\n",
    "\n",
    "vowels= \"aeiou\"\n",
    "count= 0\n",
    "for char in vowels_checker:\n",
    "    if char in vowels:\n",
    "        count +=1\n",
    "\n",
    "print(count)\n",
    "\n"
   ]
  },
  {
   "cell_type": "markdown",
   "id": "728aa652-7870-4b09-8631-51825b2ef246",
   "metadata": {},
   "source": [
    "#### 2. Write a program that reads a string from keyboard and display: \n",
    "* The number of uppercase letters in the string \n",
    "* The number of lowercase letters in the string \n",
    "* The number of digits in the string \n",
    "* The number of whitespace characters in the string  "
   ]
  },
  {
   "cell_type": "code",
   "execution_count": 2,
   "id": "32556ca2-7790-4807-b3ea-5632f284dac4",
   "metadata": {},
   "outputs": [
    {
     "name": "stdin",
     "output_type": "stream",
     "text": [
      "enter a word I am 33 years old  \n"
     ]
    },
    {
     "name": "stdout",
     "output_type": "stream",
     "text": [
      "Number of Uppercase characters 1\n",
      "Number of  Lowercase characters 10\n",
      "Number of digits  2\n",
      "Number of spaces 6\n"
     ]
    }
   ],
   "source": [
    "user_input = input(\"enter a word\")\n",
    "\n",
    "uppercase_count= 0\n",
    "lowercase_count= 0\n",
    "digit_count= 0\n",
    "space_count= 0\n",
    "\n",
    "for char in user_input:\n",
    "    if char.isupper():\n",
    "        uppercase_count +=1\n",
    "    elif char.islower():\n",
    "        lowercase_count +=1\n",
    "    elif char.isdigit():\n",
    "        digit_count +=1\n",
    "    elif char.isspace():\n",
    "        space_count +=1\n",
    "print(\"Number of Uppercase characters\", uppercase_count)\n",
    "print(\"Number of  Lowercase characters\", lowercase_count)\n",
    "print(\"Number of digits \", digit_count)\n",
    "print(\"Number of spaces\", space_count)"
   ]
  },
  {
   "cell_type": "markdown",
   "id": "7b75bce8-18b3-4889-a3e7-19fbd67a61a4",
   "metadata": {},
   "source": [
    "#### 3. Write a Python program that accepts a string from user. Your program should create and display a new string where the first and last characters have been exchanged. \n",
    "##### For example if the user enters the string 'HELLO' then new string would be 'OELLH' "
   ]
  },
  {
   "cell_type": "code",
   "execution_count": 6,
   "id": "ab7529af-be80-4457-a433-b0a034a8b59f",
   "metadata": {},
   "outputs": [
    {
     "name": "stdin",
     "output_type": "stream",
     "text": [
      "input a word ab\n"
     ]
    },
    {
     "name": "stdout",
     "output_type": "stream",
     "text": [
      "ba\n"
     ]
    }
   ],
   "source": [
    "user_input = input(\"input a word\")\n",
    "\n",
    "if len(user_input) >=2:\n",
    "    new_string = user_input[-1] + user_input[1:-1] + user_input[0]\n",
    "else:\n",
    "    user_input = new_string\n",
    "print(new_string)\n"
   ]
  },
  {
   "cell_type": "markdown",
   "id": "1f79fbe1-ab73-49d5-b4e3-97cd0dc11dd8",
   "metadata": {},
   "source": [
    "#### 4. Write a Python program that accepts a string from user. Your program should create a new string in reverse of first string and display it. \n",
    "##### For example if the user enters the string 'EXAM' then new string would be 'MAXE'  "
   ]
  },
  {
   "cell_type": "code",
   "execution_count": 16,
   "id": "28e33af5-4790-48e1-9718-1b01320a6f46",
   "metadata": {},
   "outputs": [
    {
     "name": "stdin",
     "output_type": "stream",
     "text": [
      "input a word pakistan\n"
     ]
    },
    {
     "name": "stdout",
     "output_type": "stream",
     "text": [
      "natsikap\n"
     ]
    }
   ],
   "source": [
    "user_input = input(\"input a word\")\n",
    "\n",
    "if len(user_input) >=2:\n",
    "    new_string = user_input[::-1] \n",
    "else:\n",
    "    user_input = new_string\n",
    "print(new_string)\n"
   ]
  },
  {
   "cell_type": "markdown",
   "id": "a68267c7-727c-48e0-a1f1-4e1a8c510872",
   "metadata": {},
   "source": [
    "#### 5. Write a Python program that accepts a string from user. Your program should create a new string by shifting one position to left. \n",
    "##### For example if the user enters the string 'examination 2021' then new string would be 'xamination 2021e'  "
   ]
  },
  {
   "cell_type": "code",
   "execution_count": 21,
   "id": "9dc33db7-211c-44ca-b896-bba77fee9b97",
   "metadata": {},
   "outputs": [
    {
     "name": "stdin",
     "output_type": "stream",
     "text": [
      "input a word examination 2021\n"
     ]
    },
    {
     "name": "stdout",
     "output_type": "stream",
     "text": [
      "xamination 2021e\n"
     ]
    }
   ],
   "source": [
    "user_input = input(\"input a word\")\n",
    "\n",
    "if len(user_input) >=2:\n",
    "    new_string = user_input[1:] + user_input[0]\n",
    "else:\n",
    "    user_input = new_string\n",
    "print(new_string)"
   ]
  },
  {
   "cell_type": "markdown",
   "id": "6c01b7af-d9c9-4236-ad7e-aa6b88a5b403",
   "metadata": {},
   "source": [
    "#### 6. Write a program that asks the user to input his name and print its initials. Assuming that the user always types first name, middle name and last name and does not include any unnecessary spaces. \n",
    "##### For example, if the user enters Ajay Kumar Garg the program should display A. K. G.\n",
    "##### Note:Don't use split() method  "
   ]
  },
  {
   "cell_type": "code",
   "execution_count": 22,
   "id": "37ed6709-3bf4-4cec-9924-616b95ac980d",
   "metadata": {},
   "outputs": [
    {
     "name": "stdin",
     "output_type": "stream",
     "text": [
      "Enter your full name (First Middle Last):  hafiz muhammad noorulhuda\n"
     ]
    },
    {
     "name": "stdout",
     "output_type": "stream",
     "text": [
      "Initials: H. M. N.\n"
     ]
    }
   ],
   "source": [
    "full_name = input(\"Enter your full name (First Middle Last): \")\n",
    "\n",
    "initials = \"\"\n",
    "\n",
    "for i in range(len(full_name)):\n",
    "    if i == 0 or full_name[i - 1] == ' ':\n",
    "        initials += full_name[i].upper() + '. '\n",
    "\n",
    "print(\"Initials:\", initials.strip())\n",
    "\n"
   ]
  },
  {
   "cell_type": "markdown",
   "id": "6c8cf88f-61e7-48d7-b81e-d0cd62dc8b84",
   "metadata": {},
   "source": [
    "#### 7. A palindrome is a string that reads the same backward as forward. For example, the words dad, madam and radar are all palindromes. Write a programs that determines whether the string is a palindrome. \n",
    "##### Note: do not use reverse() method  "
   ]
  },
  {
   "cell_type": "code",
   "execution_count": 29,
   "id": "7f138cb8-9647-43df-9adf-7890962139d0",
   "metadata": {},
   "outputs": [
    {
     "name": "stdin",
     "output_type": "stream",
     "text": [
      "enter a word paki\n"
     ]
    },
    {
     "name": "stdout",
     "output_type": "stream",
     "text": [
      "not a palindrome\n"
     ]
    }
   ],
   "source": [
    "word = input(\"enter a word\")\n",
    "\n",
    "if word == word[::-1]:\n",
    "    print (\"word is a palindrome\")\n",
    "else:\n",
    "    print(\"not a palindrome\")"
   ]
  },
  {
   "cell_type": "markdown",
   "id": "f2e83626-d5cc-496a-b175-d9e3b72e4092",
   "metadata": {},
   "source": [
    "### 8. Write a program that display following output: \n",
    "- SHIFT \n",
    "- HIFTS \n",
    "- IFTSH \n",
    "- FTSHI \n",
    "- TSHIF \n",
    "- SHIFT "
   ]
  },
  {
   "cell_type": "code",
   "execution_count": 33,
   "id": "f29526e5-bdb9-42d0-ab5d-1ea51b239fc0",
   "metadata": {},
   "outputs": [
    {
     "name": "stdout",
     "output_type": "stream",
     "text": [
      "SHIFT\n",
      "HIFTS\n",
      "IFTSH\n",
      "FTSHI\n",
      "TSHIF\n"
     ]
    }
   ],
   "source": [
    "word = \"SHIFT\"\n",
    "length = len(word)\n",
    "for i in range(length):\n",
    "    shifted_word = word[i:] + word[:i]\n",
    "    print(shifted_word)\n",
    "    \n",
    "\n"
   ]
  },
  {
   "cell_type": "markdown",
   "id": "3f97661d-600c-4b95-80d7-cf3d9b82af88",
   "metadata": {},
   "source": [
    "### 9-Write a program in python that accepts a string to setup a passwords. Your entered password must meet the following requirements: \n",
    "The password must be at least eight characters long. \n",
    "It must contain at least one uppercase letter. \n",
    "It must contain at least one lowercase letter. \n",
    "It must contain at least one numeric digit. \n",
    "Your program should should perform this validation.  "
   ]
  },
  {
   "cell_type": "code",
   "execution_count": 12,
   "id": "159bb9a4-00d6-4e25-81aa-0a7aed4ede63",
   "metadata": {},
   "outputs": [
    {
     "name": "stdin",
     "output_type": "stream",
     "text": [
      "setup a password Passworde1n\n"
     ]
    },
    {
     "name": "stdout",
     "output_type": "stream",
     "text": [
      "Password is valid\n"
     ]
    }
   ],
   "source": [
    "password = input(\"setup a password\")\n",
    "\n",
    "has_upper = False\n",
    "has_lower = False\n",
    "has_digit = False\n",
    "\n",
    "\n",
    "for ch in password:\n",
    "    if ch.isupper():\n",
    "        has_upper = True\n",
    "    elif ch.islower():\n",
    "        has_lower = True\n",
    "    elif ch.isdigit():\n",
    "        has_digit = True\n",
    "if len(password) < 8:\n",
    "    print(\"Password must contain at least 8 characters\")\n",
    "elif not has_lower:\n",
    "    print(\"Password must contain at least 1 lower case letter\")\n",
    "elif not has_upper:\n",
    "    print(\"Password must contain at least 1 upper case letter\")\n",
    "elif not has_digit:\n",
    "    print(\"Password must contain at least 1 digit\")\n",
    "else:\n",
    "    print(\"Password is valid\")\n"
   ]
  },
  {
   "cell_type": "code",
   "execution_count": null,
   "id": "e63a8be8-f59c-432a-acef-08e76b8f0eaa",
   "metadata": {},
   "outputs": [],
   "source": []
  },
  {
   "cell_type": "code",
   "execution_count": null,
   "id": "6fea8e7b-3ea1-4c30-971c-e9130c04ec38",
   "metadata": {},
   "outputs": [],
   "source": []
  },
  {
   "cell_type": "code",
   "execution_count": null,
   "id": "8b0d52d4-4f1b-4266-af67-391d7741528c",
   "metadata": {},
   "outputs": [],
   "source": []
  }
 ],
 "metadata": {
  "kernelspec": {
   "display_name": "Python 3 (ipykernel)",
   "language": "python",
   "name": "python3"
  },
  "language_info": {
   "codemirror_mode": {
    "name": "ipython",
    "version": 3
   },
   "file_extension": ".py",
   "mimetype": "text/x-python",
   "name": "python",
   "nbconvert_exporter": "python",
   "pygments_lexer": "ipython3",
   "version": "3.13.5"
  }
 },
 "nbformat": 4,
 "nbformat_minor": 5
}
